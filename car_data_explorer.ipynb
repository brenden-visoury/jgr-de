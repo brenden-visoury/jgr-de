{
 "cells": [
  {
   "cell_type": "code",
   "execution_count": 94,
   "id": "initial_id",
   "metadata": {
    "collapsed": true,
    "ExecuteTime": {
     "end_time": "2024-02-13T18:05:04.132151Z",
     "start_time": "2024-02-13T18:05:04.125686Z"
    }
   },
   "outputs": [
    {
     "name": "stdout",
     "output_type": "stream",
     "text": [
      "hello world\n"
     ]
    }
   ],
   "source": [
    "print('hello world')"
   ]
  },
  {
   "cell_type": "code",
   "execution_count": 20,
   "outputs": [],
   "source": [
    "import json\n",
    "import re\n",
    "\n",
    "# Open the JSON file\n",
    "with open('/Users/brenden.visoury/Desktop/Python Projects/jgibbs/SMTSample.json', 'r') as file:\n",
    "    text = file.read()"
   ],
   "metadata": {
    "collapsed": false,
    "ExecuteTime": {
     "end_time": "2024-02-13T03:57:31.674340Z",
     "start_time": "2024-02-13T03:57:31.036874Z"
    }
   },
   "id": "c69c946867a12887"
  },
  {
   "cell_type": "code",
   "execution_count": 50,
   "outputs": [],
   "source": [
    "import json\n",
    "import re\n",
    "\n",
    "def process_file(input_file_path, output_file_path):\n",
    "    modified_jsons = []\n",
    "\n",
    "    with open(input_file_path, 'r') as file:\n",
    "        for line in file:\n",
    "            match = re.match(r'(\\d+)(\\{.*\\})', line.strip())\n",
    "            if match:\n",
    "                number, json_str = match.groups()\n",
    "                \n",
    "                try:\n",
    "                    data = json.loads(json_str)\n",
    "\n",
    "                    data['timestamp'] = int(number)\n",
    "\n",
    "                    modified_jsons.append(data)\n",
    "\n",
    "                except json.JSONDecodeError as e:\n",
    "                    print(f\"Error decoding JSON: {e}\")\n",
    "\n",
    "    with open(output_file_path, 'w') as output_file:\n",
    "        for data in modified_jsons:\n",
    "            json.dump(data, output_file, indent=4)\n",
    "            output_file.write(\", \\n\")"
   ],
   "metadata": {
    "collapsed": false,
    "ExecuteTime": {
     "end_time": "2024-02-13T04:46:18.212582Z",
     "start_time": "2024-02-13T04:46:18.210327Z"
    }
   },
   "id": "a444e96206f0e457"
  },
  {
   "cell_type": "code",
   "execution_count": 88,
   "outputs": [],
   "source": [
    "import re\n",
    "\n",
    "def process_file(input_file_path, output_directory):\n",
    "    modified_jsons = []\n",
    "\n",
    "    output_filename = \"jgr_clean_data.json\"\n",
    "    \n",
    "    output_file_path = os.path.join(output_directory, output_filename)\n",
    "\n",
    "    with open(input_file_path, 'r') as file:\n",
    "        for line in file:\n",
    "            match = re.match(r'(\\d+)(\\{.*\\})', line.strip())\n",
    "            if match:\n",
    "                number, json_str = match.groups()\n",
    "\n",
    "                try:\n",
    "                    data = json.loads(json_str)\n",
    "\n",
    "                    data['timestamp'] = int(number)\n",
    "\n",
    "                    modified_jsons.append(data)\n",
    "\n",
    "                except json.JSONDecodeError as e:\n",
    "                    print(f\"Error decoding JSON: {e}\")\n",
    "\n",
    "    with open(output_file_path, 'w') as output_file:\n",
    "        json.dump(modified_jsons, output_file, indent=4)\n",
    "\n",
    "    return output_file_path"
   ],
   "metadata": {
    "collapsed": false,
    "ExecuteTime": {
     "end_time": "2024-02-14T06:37:02.245985Z",
     "start_time": "2024-02-14T06:37:02.235959Z"
    }
   },
   "id": "fa0fcf39181f9c0f"
  },
  {
   "cell_type": "code",
   "execution_count": 89,
   "outputs": [
    {
     "data": {
      "text/plain": "'/Users/brenden.visoury/Desktop/Python Projects/jgibbs/jgr-folder/jgr-de/data_files/jgr_clean_data.json'"
     },
     "execution_count": 89,
     "metadata": {},
     "output_type": "execute_result"
    }
   ],
   "source": [
    "output_file_dir = '/Users/brenden.visoury/Desktop/Python Projects/jgibbs/jgr-folder/jgr-de/data_files/'\n",
    "input_file_path = '/Users/brenden.visoury/Desktop/Python Projects/jgibbs/SMTSample.json'\n",
    "process_file(input_file_path, output_file_dir)"
   ],
   "metadata": {
    "collapsed": false,
    "ExecuteTime": {
     "end_time": "2024-02-14T06:37:31.150351Z",
     "start_time": "2024-02-14T06:37:04.664826Z"
    }
   },
   "id": "64574ff2683eb7f"
  },
  {
   "cell_type": "code",
   "execution_count": 51,
   "outputs": [],
   "source": [
    "file_path = '/Users/brenden.visoury/Desktop/Python Projects/jgibbs/SMTSample.json'\n",
    "output_file_path = '/Users/brenden.visoury/Desktop/Python Projects/jgibbs/jgr_clean_data_1.json'\n",
    "processed_jsons = process_file(file_path, output_file_path)\n",
    "\n",
    "/Users/brenden.visoury/Desktop/Python Projects/jgibbs/clean_data.json"
   ],
   "metadata": {
    "collapsed": false,
    "ExecuteTime": {
     "end_time": "2024-02-13T04:46:55.673422Z",
     "start_time": "2024-02-13T04:46:31.145543Z"
    }
   },
   "id": "c1716fa19ec730ed"
  },
  {
   "cell_type": "code",
   "execution_count": 56,
   "outputs": [],
   "source": [
    "import json\n",
    "import re\n",
    "\n",
    "def process_file(input_file_path, output_file_path):\n",
    "    modified_jsons = []\n",
    "\n",
    "    with open(input_file_path, 'r') as file:\n",
    "        for line in file:\n",
    "            match = re.match(r'(\\d+)(\\{.*\\})', line.strip())\n",
    "            if match:\n",
    "                number, json_str = match.groups()\n",
    "                \n",
    "                try:\n",
    "                    data = json.loads(json_str)\n",
    "\n",
    "                    data['timestamp'] = int(number)\n",
    "\n",
    "                    modified_jsons.append(data)\n",
    "\n",
    "                except json.JSONDecodeError as e:\n",
    "                    print(f\"Error decoding JSON: {e}\")\n",
    "\n",
    "    with open(output_file_path, 'w') as output_file:\n",
    "        json.dump(modified_jsons, output_file, indent=4)\n",
    "\n",
    "# Replace these paths with your actual file paths\n",
    "input_file_path = '/Users/brenden.visoury/Desktop/Python Projects/jgibbs/SMTSample.json'\n",
    "output_file_path = '/Users/brenden.visoury/Desktop/Python Projects/jgibbs/clean_data.json'\n",
    "process_file(input_file_path, output_file_path)"
   ],
   "metadata": {
    "collapsed": false,
    "ExecuteTime": {
     "end_time": "2024-02-13T05:06:57.947832Z",
     "start_time": "2024-02-13T05:06:34.204664Z"
    }
   },
   "id": "64058a7ba3f0cda7"
  },
  {
   "cell_type": "code",
   "execution_count": 79,
   "outputs": [
    {
     "data": {
      "text/plain": "['result',\n 'track',\n 'linecrossing',\n 'tracktemp',\n 'pit',\n 'runs',\n 'heartbeat',\n 'entries',\n 'flag',\n 'venue',\n 'location']"
     },
     "execution_count": 79,
     "metadata": {},
     "output_type": "execute_result"
    }
   ],
   "source": [
    "import json\n",
    "\n",
    "def print_distinct_types(file_path):\n",
    "    distinct_types = set()\n",
    "    type_list = []\n",
    "\n",
    "    with open(file_path, 'r') as file:\n",
    "        data = json.load(file)\n",
    "\n",
    "        for obj in data:\n",
    "            if 'type' in obj:\n",
    "                distinct_types.add(obj['type'])\n",
    "\n",
    "    for type_value in distinct_types:\n",
    "        type_list.append(type_value)\n",
    "    return type_list\n",
    "\n",
    "type_list = []\n",
    "\n",
    "file_path = '/Users/brenden.visoury/Desktop/Python Projects/jgibbs/clean_data.json'\n",
    "type_list = print_distinct_types(file_path)\n",
    "\n",
    "type_list"
   ],
   "metadata": {
    "collapsed": false,
    "ExecuteTime": {
     "end_time": "2024-02-14T06:10:13.805548Z",
     "start_time": "2024-02-14T06:10:09.581819Z"
    }
   },
   "id": "a176debc683dd6f1"
  },
  {
   "cell_type": "code",
   "execution_count": 58,
   "outputs": [],
   "source": [
    "import json\n",
    "\n",
    "def filter_records(input_file_path, output_file_path, filter_type):\n",
    "    filtered_records = []\n",
    "\n",
    "    with open(input_file_path, 'r') as file:\n",
    "        data = json.load(file)\n",
    "\n",
    "        for record in data:\n",
    "            if record.get('type') == filter_type:\n",
    "                filtered_records.append(record)\n",
    "\n",
    "    with open(output_file_path, 'w') as output_file:\n",
    "        json.dump(filtered_records, output_file, indent=4)\n",
    "\n",
    "input_file_path = '/Users/brenden.visoury/Desktop/Python Projects/jgibbs/clean_data.json'  # Replace with your input file path\n",
    "output_file_path = '/Users/brenden.visoury/Desktop/Python Projects/jgibbs/line_crossing_data.json'  # Replace with your desired output file path\n",
    "\n",
    "filter_records(input_file_path, output_file_path, 'linecrossing')"
   ],
   "metadata": {
    "collapsed": false,
    "ExecuteTime": {
     "end_time": "2024-02-13T05:15:43.355765Z",
     "start_time": "2024-02-13T05:15:37.708730Z"
    }
   },
   "id": "ca82297ddc371ef1"
  },
  {
   "cell_type": "code",
   "execution_count": 61,
   "outputs": [
    {
     "name": "stdout",
     "output_type": "stream",
     "text": [
      "{'type': 'linecrossing', 'sessionInfo': {'race_uid': 5081, 'series_uid': 1, 'run_id': 1, 'run_type': 3}, 'data': {'id': 208621, 'no': '38', 'entry_id': 30, 'et': 0, 'lap': 0, 'lead_lap': 0, 'lap_tm': -1, 'delta': 0, 'ps': 32, 't_ps': 32, 'tod': 1632698097429, 'flg': 8, 'loop': {'id': 8, 'name': 'L3', 'ord': 4, 'dist_sf': 0.2669, 'dist_sf_trk': 0.2669, 'pit': 0, 'pi': 0, 'po': 0, 'sf': 0}}, 'timestamp': 1632698128682}\n"
     ]
    }
   ],
   "source": [
    "line_crossing_data = '/Users/brenden.visoury/Desktop/Python Projects/jgibbs/line_crossing_data.json'\n",
    "\n",
    "with open(line_crossing_data, 'r') as file:\n",
    "    data = json.load(file)\n",
    "    first_object = data[0]\n",
    "    \n",
    "print(first_object)"
   ],
   "metadata": {
    "collapsed": false,
    "ExecuteTime": {
     "end_time": "2024-02-13T17:26:25.455846Z",
     "start_time": "2024-02-13T17:26:25.110802Z"
    }
   },
   "id": "fc5350bd773a5526"
  },
  {
   "cell_type": "code",
   "execution_count": 75,
   "outputs": [],
   "source": [
    "def generate_create_table_statement(json_obj, table_name):\n",
    "    columns = []\n",
    "\n",
    "    # Function to process each key-value pair\n",
    "    def process_value(key, val):\n",
    "        # Determine the SQL data type based on the value type\n",
    "        if isinstance(val, int):\n",
    "            return f\"{key} INTEGER\"\n",
    "        elif isinstance(val, float):\n",
    "            return f\"{key} REAL\"\n",
    "        elif isinstance(val, str):\n",
    "            return f\"{key} TEXT\"\n",
    "        elif isinstance(val, dict):\n",
    "            # Handle nested dictionary by flattening it\n",
    "            for sub_key, sub_val in val.items():\n",
    "                full_key = f\"{key}_{sub_key}\"\n",
    "                column = process_value(full_key, sub_val)\n",
    "                if column:\n",
    "                    columns.append(column)\n",
    "            return None\n",
    "        else:\n",
    "            return f\"{key} TEXT\"  # Default to TEXT for unrecognized types\n",
    "\n",
    "    # Process each key-value pair in the JSON object\n",
    "    for key, val in json_obj.items():\n",
    "        column = process_value(key, val)\n",
    "        if column:\n",
    "            columns.append(column)\n",
    "\n",
    "    # Generate the full SQL statement\n",
    "    columns_str = ', '.join(columns)\n",
    "    sql_statement = f\"CREATE TABLE {table_name} ({columns_str});\"\n",
    "\n",
    "    return sql_statement"
   ],
   "metadata": {
    "collapsed": false,
    "ExecuteTime": {
     "end_time": "2024-02-13T17:33:33.710338Z",
     "start_time": "2024-02-13T17:33:33.706417Z"
    }
   },
   "id": "a178398caefd123b"
  },
  {
   "cell_type": "code",
   "execution_count": 79,
   "outputs": [
    {
     "name": "stdout",
     "output_type": "stream",
     "text": [
      "{'type': 'linecrossing', 'sessionInfo': {'race_uid': 5081, 'series_uid': 1, 'run_id': 1, 'run_type': 3}, 'data': {'id': 208621, 'no': '38', 'entry_id': 30, 'et': 0, 'lap': 0, 'lead_lap': 0, 'lap_tm': -1, 'delta': 0, 'ps': 32, 't_ps': 32, 'tod': 1632698097429, 'flg': 8, 'loop': {'id': 8, 'name': 'L3', 'ord': 4, 'dist_sf': 0.2669, 'dist_sf_trk': 0.2669, 'pit': 0, 'pi': 0, 'po': 0, 'sf': 0}}, 'timestamp': 1632698128682}\n"
     ]
    }
   ],
   "source": [
    "table_name = 'line_crossing_data'\n",
    "print(first_object)\n",
    "\n",
    "column_headers = {\n",
    "    'type': 'varchar',\n",
    "    'race_uid': 'int',\n",
    "    'series_uid': 'int',\n",
    "    'run_id': 'int',\n",
    "    'run_type': 'int',\n",
    "    'data_id': 'varchar',\n",
    "    'no': 'int',\n",
    "    'entry_id': 'int',\n",
    "    'et': 'int',\n",
    "    'lap': 'int',\n",
    "    'lead_lap': 'int',\n",
    "    'lap_tm': 'int',\n",
    "    'delta': 'int',\n",
    "    'ps': 'int',\n",
    "    't_ps': 'int',\n",
    "    'tod': 'int',\n",
    "    'flg': 'int',\n",
    "    'loop_id': 'int',\n",
    "    'name': 'varchar',\n",
    "    'ord': 'int',\n",
    "    'dist_sf': 'float',\n",
    "    'dist_sf_trk': 'float',\n",
    "    'pit': 'int',\n",
    "    'pi': 'int',\n",
    "    'po': 'int',\n",
    "    'sf': 'int',\n",
    "    'timestamp': 'int'\n",
    "}"
   ],
   "metadata": {
    "collapsed": false,
    "ExecuteTime": {
     "end_time": "2024-02-13T17:46:09.259919Z",
     "start_time": "2024-02-13T17:46:09.252518Z"
    }
   },
   "id": "f88d1bb8ec9ef040"
  },
  {
   "cell_type": "code",
   "execution_count": 83,
   "outputs": [
    {
     "data": {
      "text/plain": "'CREATE TABLE line_crossing as (type varchar, race_uid int, series_uid int, run_id int, run_type int, data_id varchar, no int, entry_id int, et int, lap int, lead_lap int, lap_tm int, delta int, ps int, t_ps int, tod int, flg int, loop_id int, name varchar, ord int, dist_sf float, dist_sf_trk float, pit int, pi int, po int, sf int, timestamp int);'"
     },
     "execution_count": 83,
     "metadata": {},
     "output_type": "execute_result"
    }
   ],
   "source": [
    "def generate_create_table_statement(column_headers, table_name):\n",
    "    sql_statement = f\"CREATE TABLE {table_name} as (\"\n",
    "\n",
    "    column_definitions = []\n",
    "    for column_name, data_type in column_headers.items():\n",
    "        column_definitions.append(f\"{column_name} {data_type}\")\n",
    "\n",
    "    sql_statement += ', '.join(column_definitions)\n",
    "    sql_statement += \");\"\n",
    "\n",
    "    return sql_statement\n",
    "\n",
    "table_name = 'line_crossing'\n",
    "generate_create_table_statement(column_headers, table_name)"
   ],
   "metadata": {
    "collapsed": false,
    "ExecuteTime": {
     "end_time": "2024-02-13T17:47:45.691088Z",
     "start_time": "2024-02-13T17:47:45.682099Z"
    }
   },
   "id": "62e981970eaae689"
  },
  {
   "cell_type": "code",
   "execution_count": 31,
   "outputs": [
    {
     "data": {
      "text/plain": "               type      timestamp  sessionInfo.race_uid  \\\n0      linecrossing  1632698128682                  5081   \n1      linecrossing  1632698128688                  5081   \n2      linecrossing  1632698128903                  5081   \n3      linecrossing  1632698129004                  5081   \n4      linecrossing  1632698129279                  5081   \n...             ...            ...                   ...   \n25292  linecrossing  1632700046973                  5081   \n25293  linecrossing  1632700047003                  5081   \n25294  linecrossing  1632700047068                  5081   \n25295  linecrossing  1632700047097                  5081   \n25296  linecrossing  1632700047128                  5081   \n\n       sessionInfo.series_uid  sessionInfo.run_id  sessionInfo.run_type  \\\n0                           1                   1                     3   \n1                           1                   1                     3   \n2                           1                   1                     3   \n3                           1                   1                     3   \n4                           1                   1                     3   \n...                       ...                 ...                   ...   \n25292                       1                   1                     3   \n25293                       1                   1                     3   \n25294                       1                   1                     3   \n25295                       1                   1                     3   \n25296                       1                   1                     3   \n\n       data.id data.no  data.entry_id  data.et  ...  data.flg  data.loop.id  \\\n0       208621      38             30        0  ...         8             8   \n1       208622      21             24        0  ...         8            10   \n2       208623      77             40        0  ...         8             8   \n3       208624       8             13        0  ...         8            10   \n4       208625      43             33        0  ...         8            10   \n...        ...     ...            ...      ...  ...       ...           ...   \n25292   236634       5             10  1613884  ...         1            14   \n25293   236635      53             38  1613923  ...         1            20   \n25294   236636      78             41  1613984  ...         1             5   \n25295   236637      42             32  1614026  ...         1            11   \n25296   236638      48             35  1614061  ...         1            12   \n\n       data.loop.name  data.loop.ord  data.loop.dist_sf  \\\n0                  L3              4             0.2669   \n1                  L5              6             0.4998   \n2                  L3              4             0.2669   \n3                  L5              6             0.4998   \n4                  L5              6             0.4998   \n...               ...            ...                ...   \n25292              L9             10             0.9392   \n25293             L14             15             1.4631   \n25294              L1              2             0.0799   \n25295              L6              7             0.5864   \n25296              L7              8             0.6996   \n\n       data.loop.dist_sf_trk  data.loop.pit  data.loop.pi  data.loop.po  \\\n0                     0.2669              0             0             0   \n1                     0.4998              0             0             0   \n2                     0.2669              0             0             0   \n3                     0.4998              0             0             0   \n4                     0.4998              0             0             0   \n...                      ...            ...           ...           ...   \n25292                 0.9392              0             0             0   \n25293                 1.4631              0             0             0   \n25294                 0.0799              0             0             0   \n25295                 0.5864              0             0             0   \n25296                 0.6996              0             0             0   \n\n      data.loop.sf  \n0                0  \n1                0  \n2                0  \n3                0  \n4                0  \n...            ...  \n25292            0  \n25293            0  \n25294            0  \n25295            0  \n25296            0  \n\n[25297 rows x 27 columns]",
      "text/html": "<div>\n<style scoped>\n    .dataframe tbody tr th:only-of-type {\n        vertical-align: middle;\n    }\n\n    .dataframe tbody tr th {\n        vertical-align: top;\n    }\n\n    .dataframe thead th {\n        text-align: right;\n    }\n</style>\n<table border=\"1\" class=\"dataframe\">\n  <thead>\n    <tr style=\"text-align: right;\">\n      <th></th>\n      <th>type</th>\n      <th>timestamp</th>\n      <th>sessionInfo.race_uid</th>\n      <th>sessionInfo.series_uid</th>\n      <th>sessionInfo.run_id</th>\n      <th>sessionInfo.run_type</th>\n      <th>data.id</th>\n      <th>data.no</th>\n      <th>data.entry_id</th>\n      <th>data.et</th>\n      <th>...</th>\n      <th>data.flg</th>\n      <th>data.loop.id</th>\n      <th>data.loop.name</th>\n      <th>data.loop.ord</th>\n      <th>data.loop.dist_sf</th>\n      <th>data.loop.dist_sf_trk</th>\n      <th>data.loop.pit</th>\n      <th>data.loop.pi</th>\n      <th>data.loop.po</th>\n      <th>data.loop.sf</th>\n    </tr>\n  </thead>\n  <tbody>\n    <tr>\n      <th>0</th>\n      <td>linecrossing</td>\n      <td>1632698128682</td>\n      <td>5081</td>\n      <td>1</td>\n      <td>1</td>\n      <td>3</td>\n      <td>208621</td>\n      <td>38</td>\n      <td>30</td>\n      <td>0</td>\n      <td>...</td>\n      <td>8</td>\n      <td>8</td>\n      <td>L3</td>\n      <td>4</td>\n      <td>0.2669</td>\n      <td>0.2669</td>\n      <td>0</td>\n      <td>0</td>\n      <td>0</td>\n      <td>0</td>\n    </tr>\n    <tr>\n      <th>1</th>\n      <td>linecrossing</td>\n      <td>1632698128688</td>\n      <td>5081</td>\n      <td>1</td>\n      <td>1</td>\n      <td>3</td>\n      <td>208622</td>\n      <td>21</td>\n      <td>24</td>\n      <td>0</td>\n      <td>...</td>\n      <td>8</td>\n      <td>10</td>\n      <td>L5</td>\n      <td>6</td>\n      <td>0.4998</td>\n      <td>0.4998</td>\n      <td>0</td>\n      <td>0</td>\n      <td>0</td>\n      <td>0</td>\n    </tr>\n    <tr>\n      <th>2</th>\n      <td>linecrossing</td>\n      <td>1632698128903</td>\n      <td>5081</td>\n      <td>1</td>\n      <td>1</td>\n      <td>3</td>\n      <td>208623</td>\n      <td>77</td>\n      <td>40</td>\n      <td>0</td>\n      <td>...</td>\n      <td>8</td>\n      <td>8</td>\n      <td>L3</td>\n      <td>4</td>\n      <td>0.2669</td>\n      <td>0.2669</td>\n      <td>0</td>\n      <td>0</td>\n      <td>0</td>\n      <td>0</td>\n    </tr>\n    <tr>\n      <th>3</th>\n      <td>linecrossing</td>\n      <td>1632698129004</td>\n      <td>5081</td>\n      <td>1</td>\n      <td>1</td>\n      <td>3</td>\n      <td>208624</td>\n      <td>8</td>\n      <td>13</td>\n      <td>0</td>\n      <td>...</td>\n      <td>8</td>\n      <td>10</td>\n      <td>L5</td>\n      <td>6</td>\n      <td>0.4998</td>\n      <td>0.4998</td>\n      <td>0</td>\n      <td>0</td>\n      <td>0</td>\n      <td>0</td>\n    </tr>\n    <tr>\n      <th>4</th>\n      <td>linecrossing</td>\n      <td>1632698129279</td>\n      <td>5081</td>\n      <td>1</td>\n      <td>1</td>\n      <td>3</td>\n      <td>208625</td>\n      <td>43</td>\n      <td>33</td>\n      <td>0</td>\n      <td>...</td>\n      <td>8</td>\n      <td>10</td>\n      <td>L5</td>\n      <td>6</td>\n      <td>0.4998</td>\n      <td>0.4998</td>\n      <td>0</td>\n      <td>0</td>\n      <td>0</td>\n      <td>0</td>\n    </tr>\n    <tr>\n      <th>...</th>\n      <td>...</td>\n      <td>...</td>\n      <td>...</td>\n      <td>...</td>\n      <td>...</td>\n      <td>...</td>\n      <td>...</td>\n      <td>...</td>\n      <td>...</td>\n      <td>...</td>\n      <td>...</td>\n      <td>...</td>\n      <td>...</td>\n      <td>...</td>\n      <td>...</td>\n      <td>...</td>\n      <td>...</td>\n      <td>...</td>\n      <td>...</td>\n      <td>...</td>\n      <td>...</td>\n    </tr>\n    <tr>\n      <th>25292</th>\n      <td>linecrossing</td>\n      <td>1632700046973</td>\n      <td>5081</td>\n      <td>1</td>\n      <td>1</td>\n      <td>3</td>\n      <td>236634</td>\n      <td>5</td>\n      <td>10</td>\n      <td>1613884</td>\n      <td>...</td>\n      <td>1</td>\n      <td>14</td>\n      <td>L9</td>\n      <td>10</td>\n      <td>0.9392</td>\n      <td>0.9392</td>\n      <td>0</td>\n      <td>0</td>\n      <td>0</td>\n      <td>0</td>\n    </tr>\n    <tr>\n      <th>25293</th>\n      <td>linecrossing</td>\n      <td>1632700047003</td>\n      <td>5081</td>\n      <td>1</td>\n      <td>1</td>\n      <td>3</td>\n      <td>236635</td>\n      <td>53</td>\n      <td>38</td>\n      <td>1613923</td>\n      <td>...</td>\n      <td>1</td>\n      <td>20</td>\n      <td>L14</td>\n      <td>15</td>\n      <td>1.4631</td>\n      <td>1.4631</td>\n      <td>0</td>\n      <td>0</td>\n      <td>0</td>\n      <td>0</td>\n    </tr>\n    <tr>\n      <th>25294</th>\n      <td>linecrossing</td>\n      <td>1632700047068</td>\n      <td>5081</td>\n      <td>1</td>\n      <td>1</td>\n      <td>3</td>\n      <td>236636</td>\n      <td>78</td>\n      <td>41</td>\n      <td>1613984</td>\n      <td>...</td>\n      <td>1</td>\n      <td>5</td>\n      <td>L1</td>\n      <td>2</td>\n      <td>0.0799</td>\n      <td>0.0799</td>\n      <td>0</td>\n      <td>0</td>\n      <td>0</td>\n      <td>0</td>\n    </tr>\n    <tr>\n      <th>25295</th>\n      <td>linecrossing</td>\n      <td>1632700047097</td>\n      <td>5081</td>\n      <td>1</td>\n      <td>1</td>\n      <td>3</td>\n      <td>236637</td>\n      <td>42</td>\n      <td>32</td>\n      <td>1614026</td>\n      <td>...</td>\n      <td>1</td>\n      <td>11</td>\n      <td>L6</td>\n      <td>7</td>\n      <td>0.5864</td>\n      <td>0.5864</td>\n      <td>0</td>\n      <td>0</td>\n      <td>0</td>\n      <td>0</td>\n    </tr>\n    <tr>\n      <th>25296</th>\n      <td>linecrossing</td>\n      <td>1632700047128</td>\n      <td>5081</td>\n      <td>1</td>\n      <td>1</td>\n      <td>3</td>\n      <td>236638</td>\n      <td>48</td>\n      <td>35</td>\n      <td>1614061</td>\n      <td>...</td>\n      <td>1</td>\n      <td>12</td>\n      <td>L7</td>\n      <td>8</td>\n      <td>0.6996</td>\n      <td>0.6996</td>\n      <td>0</td>\n      <td>0</td>\n      <td>0</td>\n      <td>0</td>\n    </tr>\n  </tbody>\n</table>\n<p>25297 rows × 27 columns</p>\n</div>"
     },
     "execution_count": 31,
     "metadata": {},
     "output_type": "execute_result"
    }
   ],
   "source": [
    "import pandas as pd\n",
    "import json\n",
    "\n",
    "def process_json_to_dataframe(file_path):\n",
    "\n",
    "    with open(file_path, 'r') as file:\n",
    "        data = json.load(file)\n",
    "\n",
    "    normalized_data = [pd.json_normalize(record) for record in data]\n",
    "\n",
    "    df = pd.concat(normalized_data, ignore_index=True)\n",
    "\n",
    "    return df\n",
    "\n",
    "process_json_to_dataframe(line_data)"
   ],
   "metadata": {
    "collapsed": false,
    "ExecuteTime": {
     "end_time": "2024-02-14T05:03:11.738201Z",
     "start_time": "2024-02-14T05:02:42.119992Z"
    }
   },
   "id": "2e5df0f0b03f84c"
  },
  {
   "cell_type": "code",
   "execution_count": 28,
   "outputs": [
    {
     "data": {
      "text/plain": "25297"
     },
     "execution_count": 28,
     "metadata": {},
     "output_type": "execute_result"
    }
   ],
   "source": [
    "clean_data = '/Users/brenden.visoury/Desktop/Python Projects/jgibbs/clean_data.json'\n",
    "\n",
    "line_data = '/Users/brenden.visoury/Desktop/Python Projects/jgibbs/line_crossing_data.json'\n",
    "\n",
    "def count_objects_in_json(file_path):\n",
    "    with open(file_path, 'r') as file:\n",
    "        data = json.load(file)\n",
    "\n",
    "    if isinstance(data, list):\n",
    "        return len(data)\n",
    "    elif isinstance(data, dict):\n",
    "        return 1\n",
    "    else:\n",
    "        return 0\n",
    "    \n",
    "count_objects_in_json(line_data)"
   ],
   "metadata": {
    "collapsed": false,
    "ExecuteTime": {
     "end_time": "2024-02-14T02:15:09.200714Z",
     "start_time": "2024-02-14T02:15:08.947980Z"
    }
   },
   "id": "e84b352e7fd58e7a"
  },
  {
   "cell_type": "code",
   "execution_count": 29,
   "outputs": [],
   "source": [
    "def convert_to_ndjson(input_file, output_file):\n",
    "    with open(input_file, 'r') as infile, open(output_file, 'w') as outfile:\n",
    "        data = json.load(infile)\n",
    "        for entry in data:\n",
    "            json.dump(entry, outfile)\n",
    "            outfile.write('\\n')\n",
    "\n",
    "output_file = '/Users/brenden.visoury/Desktop/Python Projects/jgibbs/clean_new.json'\n",
    "# Example usage\n",
    "convert_to_ndjson(line_data, output_file)"
   ],
   "metadata": {
    "collapsed": false,
    "ExecuteTime": {
     "end_time": "2024-02-14T02:16:01.057222Z",
     "start_time": "2024-02-14T02:15:59.853135Z"
    }
   },
   "id": "c4bc3a3193f897c4"
  },
  {
   "cell_type": "code",
   "execution_count": 41,
   "outputs": [],
   "source": [
    "def filter_records_and_convert_to_ndjson(input_file_path, output_file_path, filter_type):\n",
    "\n",
    "    with open(input_file_path, 'r') as infile, open(output_file_path, 'w') as outfile:\n",
    "        data = json.load(infile)\n",
    "\n",
    "        for record in data:\n",
    "            if record.get('type') == filter_type:\n",
    "                json.dump(record, outfile)\n",
    "                outfile.write('\\n')"
   ],
   "metadata": {
    "collapsed": false,
    "ExecuteTime": {
     "end_time": "2024-02-14T05:18:43.789032Z",
     "start_time": "2024-02-14T05:18:43.784968Z"
    }
   },
   "id": "c4ddc50de1a81bf4"
  },
  {
   "cell_type": "code",
   "execution_count": 72,
   "outputs": [],
   "source": [
    "import json\n",
    "import os\n",
    "\n",
    "def filter_records_and_create_ndjson(input_file_path, filter_type, output_dir):\n",
    "\n",
    "    if not os.path.exists(output_dir):\n",
    "        os.makedirs(output_dir)\n",
    "\n",
    "    output_file_path = os.path.join(output_dir, f\"{filter_type}.ndjson\")\n",
    "\n",
    "    if os.path.exists(output_file_path):\n",
    "        print(f\"Output file {output_file_path} already exists. It will be overwritten.\")\n",
    "    \n",
    "    with open(input_file_path, 'r') as infile, open(output_file_path, 'w') as outfile:\n",
    "        data = json.load(infile)\n",
    "\n",
    "        for record in data:\n",
    "            if record.get('type') == filter_type:\n",
    "                json.dump(record, outfile)\n",
    "                outfile.write('\\n')"
   ],
   "metadata": {
    "collapsed": false,
    "ExecuteTime": {
     "end_time": "2024-02-14T06:08:44.980469Z",
     "start_time": "2024-02-14T06:08:44.971204Z"
    }
   },
   "id": "f9093f22ed45f855"
  },
  {
   "cell_type": "code",
   "execution_count": 81,
   "outputs": [
    {
     "name": "stdout",
     "output_type": "stream",
     "text": [
      "Output file /Users/brenden.visoury/Desktop/Python Projects/jgibbs/linecrossing.ndjson already exists. It will be overwritten.\n"
     ]
    }
   ],
   "source": [
    "input_file_path = '/Users/brenden.visoury/Desktop/Python Projects/jgibbs/clean_data.json'\n",
    "output_dir = '/Users/brenden.visoury/Desktop/Python Projects/jgibbs/jgr-folder/jgr-de/data_files/'\n",
    "\n",
    "for filter_type in type_list:\n",
    "    filter_records_and_create_ndjson(input_file_path, filter_type, output_dir)"
   ],
   "metadata": {
    "collapsed": false,
    "ExecuteTime": {
     "end_time": "2024-02-14T06:11:38.181358Z",
     "start_time": "2024-02-14T06:10:38.447356Z"
    }
   },
   "id": "426d0c7ca441a02c"
  },
  {
   "cell_type": "code",
   "execution_count": 80,
   "outputs": [
    {
     "data": {
      "text/plain": "['result',\n 'track',\n 'linecrossing',\n 'tracktemp',\n 'pit',\n 'runs',\n 'heartbeat',\n 'entries',\n 'flag',\n 'venue',\n 'location']"
     },
     "execution_count": 80,
     "metadata": {},
     "output_type": "execute_result"
    }
   ],
   "source": [
    "type_list"
   ],
   "metadata": {
    "collapsed": false,
    "ExecuteTime": {
     "end_time": "2024-02-14T06:10:20.510036Z",
     "start_time": "2024-02-14T06:10:20.504691Z"
    }
   },
   "id": "a417212fde49033b"
  }
 ],
 "metadata": {
  "kernelspec": {
   "display_name": "Python 3",
   "language": "python",
   "name": "python3"
  },
  "language_info": {
   "codemirror_mode": {
    "name": "ipython",
    "version": 2
   },
   "file_extension": ".py",
   "mimetype": "text/x-python",
   "name": "python",
   "nbconvert_exporter": "python",
   "pygments_lexer": "ipython2",
   "version": "2.7.6"
  }
 },
 "nbformat": 4,
 "nbformat_minor": 5
}
