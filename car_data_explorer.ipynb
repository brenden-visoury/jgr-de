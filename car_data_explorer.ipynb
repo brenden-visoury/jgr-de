{
 "cells": [
  {
   "cell_type": "code",
   "execution_count": 1,
   "id": "initial_id",
   "metadata": {
    "collapsed": true,
    "ExecuteTime": {
     "end_time": "2024-02-11T20:49:36.342044Z",
     "start_time": "2024-02-11T20:49:36.311451Z"
    }
   },
   "outputs": [
    {
     "name": "stdout",
     "output_type": "stream",
     "text": [
      "hello world\n"
     ]
    }
   ],
   "source": [
    "print('hello world')"
   ]
  },
  {
   "cell_type": "code",
   "execution_count": 9,
   "outputs": [
    {
     "name": "stderr",
     "output_type": "stream",
     "text": [
      "IOPub data rate exceeded.\n",
      "The notebook server will temporarily stop sending output\n",
      "to the client in order to avoid crashing it.\n",
      "To change this limit, set the config variable\n",
      "`--NotebookApp.iopub_data_rate_limit`.\n",
      "\n",
      "Current values:\n",
      "NotebookApp.iopub_data_rate_limit=1000000.0 (bytes/sec)\n",
      "NotebookApp.rate_limit_window=3.0 (secs)\n",
      "\n"
     ]
    }
   ],
   "source": [
    "import json\n",
    "\n",
    "# Open the JSON file\n",
    "with open('/Users/brenden.visoury/Desktop/Python Projects/jgibbs/SMTSample.json', 'r') as file:\n",
    "    text = file.read()"
   ],
   "metadata": {
    "collapsed": false,
    "ExecuteTime": {
     "end_time": "2024-02-11T21:09:13.271732Z",
     "start_time": "2024-02-11T21:09:10.309070Z"
    }
   },
   "id": "c69c946867a12887"
  },
  {
   "cell_type": "code",
   "execution_count": 10,
   "outputs": [],
   "source": [
    "def format_json(text):\n",
    "    # Split the text into parts\n",
    "    parts = text.split('}', 1)\n",
    "\n",
    "    # Initialize a list to hold JSON objects\n",
    "    json_objects = []\n",
    "\n",
    "    for part in parts:\n",
    "        # Check if part is not empty and contains a JSON structure\n",
    "        if part.strip():\n",
    "            try:\n",
    "                # Add the missing closing brace\n",
    "                json_str = part.strip() + '}'\n",
    "\n",
    "                # Parse the JSON string\n",
    "                json_obj = json.loads(json_str)\n",
    "\n",
    "                # Add the parsed JSON object to the list\n",
    "                json_objects.append(json_obj)\n",
    "            except json.JSONDecodeError as e:\n",
    "                print(\"Error decoding JSON:\", e)\n",
    "\n",
    "    return json_objects"
   ],
   "metadata": {
    "collapsed": false,
    "ExecuteTime": {
     "end_time": "2024-02-11T21:09:43.613689Z",
     "start_time": "2024-02-11T21:09:43.607294Z"
    }
   },
   "id": "53bc4b30740407b7"
  },
  {
   "cell_type": "code",
   "execution_count": 11,
   "outputs": [
    {
     "name": "stdout",
     "output_type": "stream",
     "text": [
      "Error decoding JSON: Extra data: line 1 column 14 (char 13)\n",
      "Error decoding JSON: Expecting value: line 1 column 1 (char 0)\n"
     ]
    },
    {
     "data": {
      "text/plain": "[]"
     },
     "execution_count": 11,
     "metadata": {},
     "output_type": "execute_result"
    }
   ],
   "source": [
    "format_json(text)"
   ],
   "metadata": {
    "collapsed": false,
    "ExecuteTime": {
     "end_time": "2024-02-11T21:10:00.682926Z",
     "start_time": "2024-02-11T21:10:00.309122Z"
    }
   },
   "id": "9f1bc41ef6b8b927"
  },
  {
   "cell_type": "code",
   "execution_count": null,
   "outputs": [],
   "source": [],
   "metadata": {
    "collapsed": false
   },
   "id": "9e7d9f0f89a98444"
  }
 ],
 "metadata": {
  "kernelspec": {
   "display_name": "Python 3",
   "language": "python",
   "name": "python3"
  },
  "language_info": {
   "codemirror_mode": {
    "name": "ipython",
    "version": 2
   },
   "file_extension": ".py",
   "mimetype": "text/x-python",
   "name": "python",
   "nbconvert_exporter": "python",
   "pygments_lexer": "ipython2",
   "version": "2.7.6"
  }
 },
 "nbformat": 4,
 "nbformat_minor": 5
}
